{
 "cells": [
  {
   "cell_type": "code",
   "execution_count": 1,
   "id": "5df72ef7-9b0a-412a-b869-ec1d8e3bfdba",
   "metadata": {},
   "outputs": [
    {
     "name": "stderr",
     "output_type": "stream",
     "text": [
      "\u001b[32m\u001b[1m    CondaPkg \u001b[22m\u001b[39m"
     ]
    },
    {
     "name": "stderr",
     "output_type": "stream",
     "text": [
      "\u001b[0mFound dependencies: c:\\Users\\madhav\\OneDrive - UTS\\software\\qsoftware\\TestPkg\\CondaPkg.toml\n"
     ]
    },
    {
     "name": "stderr",
     "output_type": "stream",
     "text": [
      "\u001b[32m\u001b[1m    CondaPkg \u001b[22m\u001b[39m\u001b[0mFound dependencies: C:\\Users\\madhav\\.julia\\packages\\PythonCall\\DqZCE\\CondaPkg.toml\n"
     ]
    },
    {
     "name": "stderr",
     "output_type": "stream",
     "text": [
      "\u001b[32m\u001b[1m    CondaPkg \u001b[22m\u001b[39m\u001b[0mResolving changes\n"
     ]
    },
    {
     "name": "stderr",
     "output_type": "stream",
     "text": [
      "\u001b[32m\u001b[1m             \u001b[22m\u001b[39m\u001b[32m+ pip\u001b[39m\n"
     ]
    },
    {
     "name": "stderr",
     "output_type": "stream",
     "text": [
      "\u001b[32m\u001b[1m             \u001b[22m\u001b[39m\u001b[32m+ python\u001b[39m\n"
     ]
    },
    {
     "name": "stderr",
     "output_type": "stream",
     "text": [
      "\u001b[32m\u001b[1m             \u001b[22m\u001b[39m\u001b[32m+ scipy (pip)\u001b[39m\n"
     ]
    },
    {
     "name": "stderr",
     "output_type": "stream",
     "text": [
      "\u001b[32m\u001b[1m    CondaPkg \u001b[22m\u001b[39m\u001b[0mInstalling packages\n"
     ]
    },
    {
     "name": "stdout",
     "output_type": "stream",
     "text": [
      "  Package                 Version  Build               Channel                  Size\r\n",
      "--------------------------------------------------------------------------------------\r\n",
      "  Install:\r\n",
      "--------------------------------------------------------------------------------------\r\n",
      "\r\n",
      "  + bzip2                   1.0.8  h8ffe710_4          conda-forge/win-64     Cached\r\n",
      "  + ca-certificates     2022.9.24  h5b45459_0          conda-forge/win-64     Cached\r\n",
      "  + libffi                  3.4.2  h8ffe710_5          conda-forge/win-64     Cached\r\n",
      "  + libsqlite              3.39.3  hcfcfb64_0          conda-forge/win-64     Cached\r\n",
      "  + libzlib                1.2.12  hcfcfb64_3          conda-forge/win-64     Cached\r\n",
      "  + openssl                 3.0.5  hcfcfb64_2          conda-forge/win-64     Cached\r\n",
      "  + pip                    22.2.2  pyhd8ed1ab_0        conda-forge/noarch     Cached\r\n",
      "  + python                 3.10.6  hcf16a7b_0_cpython  conda-forge/win-64     Cached\r\n",
      "  + setuptools             65.4.0  pyhd8ed1ab_0        conda-forge/noarch     Cached\r\n",
      "  + tk                     8.6.12  h8ffe710_0          conda-forge/win-64     Cached\r\n",
      "  + tzdata                  2022d  h191b570_0          conda-forge/noarch     Cached\r\n",
      "  + ucrt             10.0.20348.0  h57928b3_0          conda-forge/win-64     Cached\r\n",
      "  + vc                       14.2  hb210afc_7          conda-forge/win-64     Cached\r\n",
      "  + vs2015_runtime    14.29.30139  h890b9b1_7          conda-forge/win-64     Cached\r\n",
      "  + wheel                  0.37.1  pyhd8ed1ab_0        conda-forge/noarch     Cached\r\n",
      "  + xz                      5.2.6  h8d14728_0          conda-forge/win-64     Cached\r\n",
      "\r\n",
      "  Summary:\r\n",
      "\r\n",
      "  Install: 16 packages\r\n",
      "\r\n",
      "  Total download: 0 B\r\n",
      "\r\n",
      "--------------------------------------------------------------------------------------\r\n",
      "\r\n"
     ]
    },
    {
     "name": "stderr",
     "output_type": "stream",
     "text": [
      "\u001b[32m\u001b[1m    CondaPkg \u001b[22m\u001b[39m\u001b[0mInstalling Pip packages\n"
     ]
    },
    {
     "name": "stderr",
     "output_type": "stream",
     "text": [
      "failed to create process.\r\n"
     ]
    },
    {
     "ename": "InitError",
     "evalue": "InitError: Python: ModuleNotFoundError: No module named 'scipy'\nPython stacktrace: none\nduring initialization of module TestPkg",
     "output_type": "error",
     "traceback": [
      "InitError: Python: ModuleNotFoundError: No module named 'scipy'\n",
      "Python stacktrace: none\n",
      "during initialization of module TestPkg\n",
      "\n",
      "Stacktrace:\n",
      "  [1] pythrow()\n",
      "    @ PythonCall C:\\Users\\madhav\\.julia\\packages\\PythonCall\\DqZCE\\src\\err.jl:94\n",
      "  [2] errcheck\n",
      "    @ C:\\Users\\madhav\\.julia\\packages\\PythonCall\\DqZCE\\src\\err.jl:10 [inlined]\n",
      "  [3] pyimport(m::String)\n",
      "    @ PythonCall C:\\Users\\madhav\\.julia\\packages\\PythonCall\\DqZCE\\src\\concrete\\import.jl:11\n",
      "  [4] __init__()\n",
      "    @ TestPkg c:\\Users\\madhav\\OneDrive - UTS\\software\\qsoftware\\TestPkg\\src\\TestPkg.jl:8\n",
      "  [5] _include_from_serialized(pkg::Base.PkgId, path::String, depmods::Vector{Any})\n",
      "    @ Base .\\loading.jl:831\n",
      "  [6] _require_search_from_serialized(pkg::Base.PkgId, sourcepath::String, build_id::UInt64)\n",
      "    @ Base .\\loading.jl:1039\n",
      "  [7] _require(pkg::Base.PkgId)\n",
      "    @ Base .\\loading.jl:1315\n",
      "  [8] _require_prelocked(uuidkey::Base.PkgId)\n",
      "    @ Base .\\loading.jl:1200\n",
      "  [9] macro expansion\n",
      "    @ .\\loading.jl:1180 [inlined]\n",
      " [10] macro expansion\n",
      "    @ .\\lock.jl:223 [inlined]\n",
      " [11] require(into::Module, mod::Symbol)\n",
      "    @ Base .\\loading.jl:1144\n",
      " [12] eval\n",
      "    @ .\\boot.jl:368 [inlined]\n",
      " [13] include_string(mapexpr::typeof(REPL.softscope), mod::Module, code::String, filename::String)\n",
      "    @ Base .\\loading.jl:1428\n",
      " [14] #invokelatest#2\n",
      "    @ .\\essentials.jl:729 [inlined]\n",
      " [15] invokelatest\n",
      "    @ .\\essentials.jl:726 [inlined]\n",
      " [16] (::VSCodeServer.var\"#198#199\"{VSCodeServer.NotebookRunCellArguments, String})()\n",
      "    @ VSCodeServer c:\\Users\\madhav\\.vscode\\extensions\\julialang.language-julia-1.7.12\\scripts\\packages\\VSCodeServer\\src\\serve_notebook.jl:19\n",
      " [17] withpath(f::VSCodeServer.var\"#198#199\"{VSCodeServer.NotebookRunCellArguments, String}, path::String)\n",
      "    @ VSCodeServer c:\\Users\\madhav\\.vscode\\extensions\\julialang.language-julia-1.7.12\\scripts\\packages\\VSCodeServer\\src\\repl.jl:249\n",
      " [18] notebook_runcell_request(conn::VSCodeServer.JSONRPC.JSONRPCEndpoint{Base.PipeEndpoint, Base.PipeEndpoint}, params::VSCodeServer.NotebookRunCellArguments)\n",
      "    @ VSCodeServer c:\\Users\\madhav\\.vscode\\extensions\\julialang.language-julia-1.7.12\\scripts\\packages\\VSCodeServer\\src\\serve_notebook.jl:13\n",
      " [19] dispatch_msg(x::VSCodeServer.JSONRPC.JSONRPCEndpoint{Base.PipeEndpoint, Base.PipeEndpoint}, dispatcher::VSCodeServer.JSONRPC.MsgDispatcher, msg::Dict{String, Any})\n",
      "    @ VSCodeServer.JSONRPC c:\\Users\\madhav\\.vscode\\extensions\\julialang.language-julia-1.7.12\\scripts\\packages\\JSONRPC\\src\\typed.jl:67\n",
      " [20] serve_notebook(pipename::String, outputchannel_logger::Base.CoreLogging.SimpleLogger; crashreporting_pipename::String)\n",
      "    @ VSCodeServer c:\\Users\\madhav\\.vscode\\extensions\\julialang.language-julia-1.7.12\\scripts\\packages\\VSCodeServer\\src\\serve_notebook.jl:139\n",
      " [21] top-level scope\n",
      "    @ c:\\Users\\madhav\\.vscode\\extensions\\julialang.language-julia-1.7.12\\scripts\\notebook\\notebook.jl:32"
     ]
    }
   ],
   "source": [
    "using TestPkg"
   ]
  },
  {
   "cell_type": "code",
   "execution_count": null,
   "id": "474b904d-2a2c-4987-90f1-17384636ddb2",
   "metadata": {},
   "outputs": [],
   "source": [
    "TestPkg.scipy"
   ]
  },
  {
   "cell_type": "code",
   "execution_count": null,
   "id": "8bb09245-21fe-47e8-a022-d0db8c87d4d9",
   "metadata": {},
   "outputs": [],
   "source": []
  }
 ],
 "metadata": {
  "kernelspec": {
   "display_name": "Julia 1.8.1",
   "language": "julia",
   "name": "julia-1.8"
  },
  "language_info": {
   "file_extension": ".jl",
   "mimetype": "application/julia",
   "name": "julia",
   "version": "1.8.1"
  }
 },
 "nbformat": 4,
 "nbformat_minor": 5
}
