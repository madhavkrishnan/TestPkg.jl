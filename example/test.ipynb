{
 "cells": [
  {
   "cell_type": "code",
   "execution_count": 3,
   "id": "5df72ef7-9b0a-412a-b869-ec1d8e3bfdba",
   "metadata": {},
   "outputs": [],
   "source": [
    "using TestPkg"
   ]
  },
  {
   "cell_type": "code",
   "execution_count": 4,
   "id": "474b904d-2a2c-4987-90f1-17384636ddb2",
   "metadata": {},
   "outputs": [
    {
     "data": {
      "text/plain": [
       "\u001b[0m\u001b[1mPython module: \u001b[22m<module 'numpy' (<_frozen_importlib_external._NamespaceLoader object at 0x000000006260BB20>)>"
      ]
     },
     "execution_count": 4,
     "metadata": {},
     "output_type": "execute_result"
    }
   ],
   "source": [
    "TestPkg.numpy"
   ]
  },
  {
   "cell_type": "code",
   "execution_count": null,
   "id": "8bb09245-21fe-47e8-a022-d0db8c87d4d9",
   "metadata": {},
   "outputs": [],
   "source": []
  }
 ],
 "metadata": {
  "kernelspec": {
   "display_name": "Julia 1.6.7",
   "language": "julia",
   "name": "julia-1.6"
  },
  "language_info": {
   "file_extension": ".jl",
   "mimetype": "application/julia",
   "name": "julia",
   "version": "1.6.7"
  }
 },
 "nbformat": 4,
 "nbformat_minor": 5
}
